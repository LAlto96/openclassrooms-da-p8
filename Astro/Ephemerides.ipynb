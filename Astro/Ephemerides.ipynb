{
 "cells": [
  {
   "attachments": {},
   "cell_type": "markdown",
   "metadata": {},
   "source": [
    "# Import des librairies"
   ]
  },
  {
   "cell_type": "code",
   "execution_count": 52,
   "metadata": {},
   "outputs": [],
   "source": [
    "import numpy as np\n",
    "import pandas as pd\n",
    "from datetime import datetime, timedelta"
   ]
  },
  {
   "attachments": {},
   "cell_type": "markdown",
   "metadata": {},
   "source": [
    "# Import Dataframe"
   ]
  },
  {
   "cell_type": "code",
   "execution_count": 110,
   "metadata": {},
   "outputs": [],
   "source": [
    "df_mars = pd.read_csv('./ephemerides_plan/mars.txt', delimiter=\",\",skiprows=34)\n",
    "df_mars = df_mars[2:]\n",
    "\n",
    "df_mercury = pd.read_csv('./ephemerides_plan/mercury.txt', delimiter=\",\",skiprows=34)\n",
    "df_mercury = df_mercury[2:]\n",
    "\n",
    "df_jupiter = pd.read_csv('./ephemerides_plan/jupiter.txt', delimiter=\",\",skiprows=34)\n",
    "df_jupiter = df_jupiter[2:]\n",
    "\n",
    "df_neptune = pd.read_csv('./ephemerides_plan/neptune.txt', delimiter=\",\",skiprows=34)\n",
    "df_neptune = df_neptune[2:]\n",
    "\n",
    "df_saturn = pd.read_csv('./ephemerides_plan/saturn.txt', delimiter=\",\",skiprows=34)\n",
    "df_saturn = df_saturn[2:]\n",
    "\n",
    "df_uranus = pd.read_csv('./ephemerides_plan/uranus.txt', delimiter=\",\",skiprows=34)\n",
    "df_uranus = df_uranus[2:]\n",
    "\n",
    "df_venus = pd.read_csv('./ephemerides_plan/venus.txt', delimiter=\",\",skiprows=34)\n",
    "df_venus = df_venus[2:]"
   ]
  },
  {
   "attachments": {},
   "cell_type": "markdown",
   "metadata": {},
   "source": [
    "# Nettoyage données"
   ]
  },
  {
   "cell_type": "code",
   "execution_count": 111,
   "metadata": {},
   "outputs": [],
   "source": [
    "def julian_to_datetime(julian_day):\n",
    "    return datetime(2000, 1, 1) + timedelta(float(julian_day) - 2451545.0)"
   ]
  },
  {
   "cell_type": "code",
   "execution_count": 112,
   "metadata": {},
   "outputs": [],
   "source": [
    "# Function to convert Right Ascension value to degrees\n",
    "def hms_to_deg(hms):\n",
    "    \"Converts 'h m s' to degrees\"\n",
    "    h, m, s = hms.split(' ')\n",
    "    return (float(h) + float(m) / 60 + float(s) / 3600)"
   ]
  },
  {
   "cell_type": "code",
   "execution_count": 113,
   "metadata": {},
   "outputs": [],
   "source": [
    "# Function to convert Declination value to degrees\n",
    "def dms_to_decimal(dms):\n",
    "    \"\"\"Convert declination in DMS format to decimal format.\"\"\"\n",
    "    d, m, s = dms.split(' ')\n",
    "    return float(d) + float(m)/60 + float(s)/3600"
   ]
  },
  {
   "cell_type": "code",
   "execution_count": 114,
   "metadata": {},
   "outputs": [],
   "source": [
    "# Function clensing the datasets\n",
    "def ephemerides_cleaning(planet,df):\n",
    "    # Clensing columns names\n",
    "    df = df[['Date_________JDUT',' R.A._(ICRF)',' DEC__(ICRF)','    APmag','  S-brt']]\n",
    "    columns_stripped = df.columns.tolist()\n",
    "    columns_stripped = [x.strip() for x in columns_stripped]\n",
    "    df.columns = columns_stripped\n",
    "    df=df.dropna(axis=0, how='any')\n",
    "    \n",
    "    # Clensing dates\n",
    "    date = df['Date_________JDUT'].tolist()\n",
    "    date = [julian_to_datetime(x) for x in date]\n",
    "    df['Date_________JDUT']=date\n",
    "    \n",
    "    # Clensing Right Ascension\n",
    "    ra = df['R.A._(ICRF)'].tolist()\n",
    "    ra = [hms_to_deg(x.strip()) for x in ra]\n",
    "    df['R.A._(ICRF)']=ra\n",
    "    \n",
    "    # Clensing Declination\n",
    "    dec = df['DEC__(ICRF)'].tolist()\n",
    "    dec = [dms_to_decimal(x.strip()) for x in dec]\n",
    "    df['DEC__(ICRF)']=dec\n",
    "    df['Planet']=planet\n",
    "    return df"
   ]
  },
  {
   "cell_type": "code",
   "execution_count": 115,
   "metadata": {},
   "outputs": [],
   "source": [
    "df_all = []\n",
    "\n",
    "# df_planet = ephemerides_cleaning('Panet name',df_mars), append to df_all and merging all the dataframes\n",
    "df_mercury = ephemerides_cleaning('Mercury',df_mercury)\n",
    "df_all.append(df_mercury)\n",
    "df_venus = ephemerides_cleaning('Venus',df_venus)\n",
    "df_all.append(df_venus)\n",
    "df_mars = ephemerides_cleaning('Mars',df_mars)\n",
    "df_all.append(df_mars)\n",
    "df_jupiter = ephemerides_cleaning('Jupiter',df_jupiter)\n",
    "df_all.append(df_jupiter)\n",
    "df_saturn = ephemerides_cleaning('Saturn',df_saturn)\n",
    "df_all.append(df_saturn)\n",
    "df_uranus = ephemerides_cleaning('Uranus',df_uranus)\n",
    "df_all.append(df_uranus)\n",
    "df_neptune = ephemerides_cleaning('Neptune',df_neptune)\n",
    "df_all.append(df_neptune)\n",
    "\n",
    "df_ephemerides = pd.concat(df_all)"
   ]
  },
  {
   "cell_type": "code",
   "execution_count": 119,
   "metadata": {},
   "outputs": [
    {
     "name": "stdout",
     "output_type": "stream",
     "text": [
      "<class 'pandas.core.frame.DataFrame'>\n",
      "RangeIndex: 20454 entries, 0 to 20453\n",
      "Data columns (total 6 columns):\n",
      " #   Column             Non-Null Count  Dtype         \n",
      "---  ------             --------------  -----         \n",
      " 0   Date_________JDUT  20454 non-null  datetime64[ns]\n",
      " 1   R.A._(ICRF)        20454 non-null  float64       \n",
      " 2   DEC__(ICRF)        20454 non-null  float64       \n",
      " 3   APmag              20454 non-null  float64       \n",
      " 4   S-brt              20454 non-null  float64       \n",
      " 5   Planet             20454 non-null  object        \n",
      "dtypes: datetime64[ns](1), float64(4), object(1)\n",
      "memory usage: 958.9+ KB\n"
     ]
    }
   ],
   "source": [
    "df_ephemerides = df_ephemerides.reset_index(drop=True)\n",
    "df_ephemerides.info()"
   ]
  },
  {
   "cell_type": "code",
   "execution_count": null,
   "metadata": {},
   "outputs": [],
   "source": []
  }
 ],
 "metadata": {
  "kernelspec": {
   "display_name": "Python 3.10.8 ('.venv': venv)",
   "language": "python",
   "name": "python3"
  },
  "language_info": {
   "codemirror_mode": {
    "name": "ipython",
    "version": 3
   },
   "file_extension": ".py",
   "mimetype": "text/x-python",
   "name": "python",
   "nbconvert_exporter": "python",
   "pygments_lexer": "ipython3",
   "version": "3.10.9"
  },
  "orig_nbformat": 4,
  "vscode": {
   "interpreter": {
    "hash": "4bbe2b6aa356578ebae2afcba87e3b53ae40b76b8df3c8fd7f771c64ff4e24f2"
   }
  }
 },
 "nbformat": 4,
 "nbformat_minor": 2
}
