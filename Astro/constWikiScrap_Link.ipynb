{
 "cells": [
  {
   "cell_type": "code",
   "execution_count": 18,
   "metadata": {},
   "outputs": [],
   "source": [
    "import numpy as np\n",
    "import pandas as pd\n",
    "import requests\n",
    "from bs4 import BeautifulSoup"
   ]
  },
  {
   "cell_type": "code",
   "execution_count": 19,
   "metadata": {},
   "outputs": [],
   "source": [
    "# Scrapping\n",
    "item_url='https://en.m.wikipedia.org/wiki/Lists_of_stars_by_constellation'\n",
    "\n",
    "page = requests.get(item_url)\n",
    "soup = BeautifulSoup(page.text)\n",
    "\n",
    "rows = []\n",
    "tbody=soup.find_all('tbody')[0]\n"
   ]
  },
  {
   "cell_type": "code",
   "execution_count": 28,
   "metadata": {},
   "outputs": [],
   "source": [
    "url_list=[]\n",
    "for a in tbody.find_all('a', href=True):\n",
    "    url_list.append(a['href'])"
   ]
  },
  {
   "cell_type": "code",
   "execution_count": 29,
   "metadata": {},
   "outputs": [],
   "source": [
    "const=[]\n",
    "for li in tbody.find_all('li'):\n",
    "    for a in li.find_all('a'):\n",
    "        const.append(a.string)"
   ]
  },
  {
   "cell_type": "code",
   "execution_count": 25,
   "metadata": {},
   "outputs": [],
   "source": [
    "df = pd.DataFrame({'constellation':const, 'url_end':url_list})\n",
    "df['url']='https://en.m.wikipedia.org'+df['url_end']"
   ]
  },
  {
   "cell_type": "code",
   "execution_count": 26,
   "metadata": {},
   "outputs": [
    {
     "data": {
      "text/html": [
       "<div>\n",
       "<style scoped>\n",
       "    .dataframe tbody tr th:only-of-type {\n",
       "        vertical-align: middle;\n",
       "    }\n",
       "\n",
       "    .dataframe tbody tr th {\n",
       "        vertical-align: top;\n",
       "    }\n",
       "\n",
       "    .dataframe thead th {\n",
       "        text-align: right;\n",
       "    }\n",
       "</style>\n",
       "<table border=\"1\" class=\"dataframe\">\n",
       "  <thead>\n",
       "    <tr style=\"text-align: right;\">\n",
       "      <th></th>\n",
       "      <th>constellation</th>\n",
       "      <th>url_end</th>\n",
       "      <th>url</th>\n",
       "    </tr>\n",
       "  </thead>\n",
       "  <tbody>\n",
       "    <tr>\n",
       "      <th>0</th>\n",
       "      <td>Andromeda</td>\n",
       "      <td>/wiki/List_of_stars_in_Andromeda</td>\n",
       "      <td>https://en.m.wikipedia.org/wiki/List_of_stars_...</td>\n",
       "    </tr>\n",
       "    <tr>\n",
       "      <th>1</th>\n",
       "      <td>Antlia</td>\n",
       "      <td>/wiki/List_of_stars_in_Antlia</td>\n",
       "      <td>https://en.m.wikipedia.org/wiki/List_of_stars_...</td>\n",
       "    </tr>\n",
       "    <tr>\n",
       "      <th>2</th>\n",
       "      <td>Apus</td>\n",
       "      <td>/wiki/List_of_stars_in_Apus</td>\n",
       "      <td>https://en.m.wikipedia.org/wiki/List_of_stars_...</td>\n",
       "    </tr>\n",
       "    <tr>\n",
       "      <th>3</th>\n",
       "      <td>Aquarius</td>\n",
       "      <td>/wiki/List_of_stars_in_Aquarius</td>\n",
       "      <td>https://en.m.wikipedia.org/wiki/List_of_stars_...</td>\n",
       "    </tr>\n",
       "    <tr>\n",
       "      <th>4</th>\n",
       "      <td>Aquila</td>\n",
       "      <td>/wiki/List_of_stars_in_Aquila</td>\n",
       "      <td>https://en.m.wikipedia.org/wiki/List_of_stars_...</td>\n",
       "    </tr>\n",
       "    <tr>\n",
       "      <th>...</th>\n",
       "      <td>...</td>\n",
       "      <td>...</td>\n",
       "      <td>...</td>\n",
       "    </tr>\n",
       "    <tr>\n",
       "      <th>83</th>\n",
       "      <td>Ursa Minor</td>\n",
       "      <td>/wiki/List_of_stars_in_Ursa_Minor</td>\n",
       "      <td>https://en.m.wikipedia.org/wiki/List_of_stars_...</td>\n",
       "    </tr>\n",
       "    <tr>\n",
       "      <th>84</th>\n",
       "      <td>Vela</td>\n",
       "      <td>/wiki/List_of_stars_in_Vela</td>\n",
       "      <td>https://en.m.wikipedia.org/wiki/List_of_stars_...</td>\n",
       "    </tr>\n",
       "    <tr>\n",
       "      <th>85</th>\n",
       "      <td>Virgo</td>\n",
       "      <td>/wiki/List_of_stars_in_Virgo</td>\n",
       "      <td>https://en.m.wikipedia.org/wiki/List_of_stars_...</td>\n",
       "    </tr>\n",
       "    <tr>\n",
       "      <th>86</th>\n",
       "      <td>Volans</td>\n",
       "      <td>/wiki/List_of_stars_in_Volans</td>\n",
       "      <td>https://en.m.wikipedia.org/wiki/List_of_stars_...</td>\n",
       "    </tr>\n",
       "    <tr>\n",
       "      <th>87</th>\n",
       "      <td>Vulpecula</td>\n",
       "      <td>/wiki/List_of_stars_in_Vulpecula</td>\n",
       "      <td>https://en.m.wikipedia.org/wiki/List_of_stars_...</td>\n",
       "    </tr>\n",
       "  </tbody>\n",
       "</table>\n",
       "<p>88 rows × 3 columns</p>\n",
       "</div>"
      ],
      "text/plain": [
       "   constellation                            url_end  \\\n",
       "0      Andromeda   /wiki/List_of_stars_in_Andromeda   \n",
       "1         Antlia      /wiki/List_of_stars_in_Antlia   \n",
       "2           Apus        /wiki/List_of_stars_in_Apus   \n",
       "3       Aquarius    /wiki/List_of_stars_in_Aquarius   \n",
       "4         Aquila      /wiki/List_of_stars_in_Aquila   \n",
       "..           ...                                ...   \n",
       "83    Ursa Minor  /wiki/List_of_stars_in_Ursa_Minor   \n",
       "84          Vela        /wiki/List_of_stars_in_Vela   \n",
       "85         Virgo       /wiki/List_of_stars_in_Virgo   \n",
       "86        Volans      /wiki/List_of_stars_in_Volans   \n",
       "87     Vulpecula   /wiki/List_of_stars_in_Vulpecula   \n",
       "\n",
       "                                                  url  \n",
       "0   https://en.m.wikipedia.org/wiki/List_of_stars_...  \n",
       "1   https://en.m.wikipedia.org/wiki/List_of_stars_...  \n",
       "2   https://en.m.wikipedia.org/wiki/List_of_stars_...  \n",
       "3   https://en.m.wikipedia.org/wiki/List_of_stars_...  \n",
       "4   https://en.m.wikipedia.org/wiki/List_of_stars_...  \n",
       "..                                                ...  \n",
       "83  https://en.m.wikipedia.org/wiki/List_of_stars_...  \n",
       "84  https://en.m.wikipedia.org/wiki/List_of_stars_...  \n",
       "85  https://en.m.wikipedia.org/wiki/List_of_stars_...  \n",
       "86  https://en.m.wikipedia.org/wiki/List_of_stars_...  \n",
       "87  https://en.m.wikipedia.org/wiki/List_of_stars_...  \n",
       "\n",
       "[88 rows x 3 columns]"
      ]
     },
     "execution_count": 26,
     "metadata": {},
     "output_type": "execute_result"
    }
   ],
   "source": [
    "df"
   ]
  },
  {
   "cell_type": "code",
   "execution_count": 27,
   "metadata": {},
   "outputs": [],
   "source": [
    "df.to_csv('contWikiScrap_Link.csv', index=False)"
   ]
  },
  {
   "cell_type": "code",
   "execution_count": null,
   "metadata": {},
   "outputs": [],
   "source": []
  }
 ],
 "metadata": {
  "kernelspec": {
   "display_name": "venv",
   "language": "python",
   "name": "python3"
  },
  "language_info": {
   "codemirror_mode": {
    "name": "ipython",
    "version": 3
   },
   "file_extension": ".py",
   "mimetype": "text/x-python",
   "name": "python",
   "nbconvert_exporter": "python",
   "pygments_lexer": "ipython3",
   "version": "3.10.7 (main, Sep  7 2022, 00:00:00) [GCC 12.2.1 20220819 (Red Hat 12.2.1-1)]"
  },
  "orig_nbformat": 4,
  "vscode": {
   "interpreter": {
    "hash": "8d568c8dd6b6edb5aa80c5d79d78c3ac614398662e894fba120c2e89a6e9c536"
   }
  }
 },
 "nbformat": 4,
 "nbformat_minor": 2
}
